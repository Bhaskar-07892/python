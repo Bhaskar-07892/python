{
 "cells": [
  {
   "cell_type": "markdown",
   "id": "65ee56f9",
   "metadata": {},
   "source": [
    "### numpy"
   ]
  }
 ],
 "metadata": {
  "language_info": {
   "name": "python"
  }
 },
 "nbformat": 4,
 "nbformat_minor": 5
}
